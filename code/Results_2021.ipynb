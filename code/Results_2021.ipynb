{
 "cells": [
  {
   "cell_type": "code",
   "execution_count": 53,
   "id": "preliminary-model",
   "metadata": {},
   "outputs": [],
   "source": [
    "import pandas as pd\n",
    "import matplotlib.pyplot as plt\n",
    "import seaborn as sns\n",
    "import numpy as np\n",
    "from scipy import stats\n",
    "\n",
    "from mlstats.modcomp import mcnemar\n",
    "\n",
    "## project structure\n",
    "DATA_DIR = \"/data/projects/capturingBias/research/framing/data/\" \n",
    "DATA_NPZ = DATA_DIR + \"data2021.npz\"\n",
    "\n",
    "RESULTS_FULL = DATA_DIR + \"results2021full.tsv\"\n",
    "RESULTS_TITLES = DATA_DIR + \"results2021title.tsv\"\n",
    "RESULTS_DESCRIPTIONS = DATA_DIR + \"results2021descriptions.tsv\"\n",
    "RESULTS_TRANSCRIPTIONS = DATA_DIR + \"results2021transcriptions.tsv\"\n",
    "\n",
    "OUTPUT_FULL = DATA_DIR + \"output2021full.npz\"\n",
    "OUTPUT_TITLES = DATA_DIR + \"output2021titles.npz\"\n",
    "OUTPUT_DESCRIPTIONS = DATA_DIR + \"output2021descriptions.npz\"\n",
    "OUTPUT_TRANSCRIPTIONS = DATA_DIR + \"output2021transcriptions.npz\"\n",
    "\n",
    "## load files\n",
    "data = np.load(DATA_NPZ)\n",
    "y_crowd = data['y_crowd']\n",
    "y_experts = data['y_experts']\n",
    "y_combined = data['y_combined']\n",
    "\n",
    "# retrieve indices of labeled samples\n",
    "experts_pilot_idx = np.where(y_experts > -1)[0]  # equal pilot subset\n",
    "crowd_all_idx = np.where(y_crowd > -1)[0]\n",
    "combined_all_idx = np.where(y_combined > -1)[0]\n",
    "\n",
    "\n",
    "results_full = pd.read_csv(RESULTS_FULL, delimiter='\\t')\n",
    "results_titles = pd.read_csv(RESULTS_TITLES, delimiter='\\t')\n",
    "results_descriptions = pd.read_csv(RESULTS_DESCRIPTIONS, delimiter='\\t')\n",
    "results_transcriptions = pd.read_csv(RESULTS_TRANSCRIPTIONS, delimiter='\\t')\n",
    "\n",
    "output_full = np.load(OUTPUT_FULL)['predictions']\n",
    "output_titles = np.load(OUTPUT_TITLES)['predictions']\n",
    "output_descriptions = np.load(OUTPUT_DESCRIPTIONS)['predictions']\n",
    "output_transcriptions = np.load(OUTPUT_TRANSCRIPTIONS)['predictions']\n",
    "\n",
    "output_idx = {experiment:i for i, experiment in enumerate(results_full.columns)}"
   ]
  },
  {
   "cell_type": "code",
   "execution_count": 2,
   "id": "hollywood-thesis",
   "metadata": {},
   "outputs": [
    {
     "name": "stdout",
     "output_type": "stream",
     "text": [
      "ridge_experts_pilot:\t0.615385\n",
      "ridge_crowd_pilot:\t0.416667\n",
      "ridge_crowd_all:\t0.541667\n",
      "ridge_combined_all:\t0.652174\n",
      "bayes_experts_pilot:\t0.615385\n",
      "bayes_crowd_pilot:\t0.500000\n",
      "bayes_crowd_all:\t0.500000\n",
      "bayes_combined_all:\t0.478261\n",
      "bayes_inc:\t0.544783\n",
      "forest_experts_pilot_100:\t0.572308\n",
      "forest_crowd_pilot_100:\t0.692500\n",
      "forest_crowd_all_100:\t0.555000\n",
      "forest_combined_all_100:\t0.506087\n",
      "forest_experts_pilot_250:\t0.573077\n",
      "forest_crowd_pilot_250:\t0.723333\n",
      "forest_crowd_all_250:\t0.552917\n",
      "forest_combined_all_250:\t0.466522\n",
      "forest_experts_pilot_500:\t0.571538\n",
      "forest_crowd_pilot_500:\t0.745000\n",
      "forest_crowd_all_500:\t0.544583\n",
      "forest_combined_all_500:\t0.438261\n",
      "forest_experts_pilot_750:\t0.583846\n",
      "forest_crowd_pilot_750:\t0.745000\n",
      "forest_crowd_all_750:\t0.542500\n",
      "forest_combined_all_750:\t0.430000\n",
      "forest_experts_pilot_1000:\t0.560769\n",
      "forest_crowd_pilot_1000:\t0.752500\n",
      "forest_crowd_all_1000:\t0.547083\n",
      "forest_combined_all_1000:\t0.425217\n",
      "forest_experts_pilot_2000:\t0.563077\n",
      "forest_crowd_pilot_2000:\t0.752500\n",
      "forest_crowd_all_2000:\t0.531250\n",
      "forest_combined_all_2000:\t0.411304\n",
      "svm_experts_pilot_linear:\t0.538462\n",
      "svm_crowd_pilot_linear:\t0.583333\n",
      "svm_crowd_all_linear:\t0.583333\n",
      "svm_combined_all_linear:\t0.565217\n",
      "svm_experts_pilot_rbf:\t0.384615\n",
      "svm_crowd_pilot_rbf:\t0.666667\n",
      "svm_crowd_all_rbf:\t0.583333\n",
      "svm_combined_all_rbf:\t0.565217\n",
      "svm_experts_pilot_poly:\t0.538462\n",
      "svm_crowd_pilot_poly:\t0.666667\n",
      "svm_crowd_all_poly:\t0.625000\n",
      "svm_combined_all_poly:\t0.695652\n",
      "svm_experts_pilot_sigmoid:\t0.230769\n",
      "svm_crowd_pilot_sigmoid:\t0.583333\n",
      "svm_crowd_all_sigmoid:\t0.458333\n",
      "svm_combined_all_sigmoid:\t0.565217\n",
      "nn_experts_pilot:\t0.484615\n",
      "nn_crowd_pilot:\t0.520833\n",
      "nn_crowd_all:\t0.556250\n",
      "nn_combined_all:\t0.542174\n"
     ]
    }
   ],
   "source": [
    "# full\n",
    "for e in results_full.columns:\n",
    "    print('%s:\\t%f' % (e, np.mean(results_full[e].values)))"
   ]
  },
  {
   "cell_type": "code",
   "execution_count": 3,
   "id": "average-intro",
   "metadata": {},
   "outputs": [
    {
     "name": "stdout",
     "output_type": "stream",
     "text": [
      "ridge_experts_pilot:\t0.307692\n",
      "ridge_crowd_pilot:\t0.517241\n",
      "ridge_crowd_all:\t0.448276\n",
      "ridge_combined_all:\t0.425000\n",
      "bayes_experts_pilot:\t0.538462\n",
      "bayes_crowd_pilot:\t0.517241\n",
      "bayes_crowd_all:\t0.413793\n",
      "bayes_combined_all:\t0.470833\n",
      "bayes_crowd_pilot_inc:\t0.473333\n",
      "bayes_crowd_all_inc:\t0.506667\n",
      "bayes_combined_all_inc:\t0.505000\n",
      "forest_experts_pilot_100:\t0.382308\n",
      "forest_crowd_pilot_100:\t0.655172\n",
      "forest_crowd_all_100:\t0.655172\n",
      "forest_combined_all_100:\t0.433333\n",
      "forest_experts_pilot_250:\t0.382308\n",
      "forest_crowd_pilot_250:\t0.655172\n",
      "forest_crowd_all_250:\t0.655172\n",
      "forest_combined_all_250:\t0.404167\n",
      "forest_experts_pilot_500:\t0.382308\n",
      "forest_crowd_pilot_500:\t0.655172\n",
      "forest_crowd_all_500:\t0.655172\n",
      "forest_combined_all_500:\t0.389167\n",
      "forest_experts_pilot_750:\t0.384615\n",
      "forest_crowd_pilot_750:\t0.655172\n",
      "forest_crowd_all_750:\t0.655172\n",
      "forest_combined_all_750:\t0.408333\n",
      "forest_experts_pilot_1000:\t0.384615\n",
      "forest_crowd_pilot_1000:\t0.655172\n",
      "forest_crowd_all_1000:\t0.655172\n",
      "forest_combined_all_1000:\t0.408333\n",
      "forest_experts_pilot_2000:\t0.384615\n",
      "forest_crowd_pilot_2000:\t0.655172\n",
      "forest_crowd_all_2000:\t0.655172\n",
      "forest_combined_all_2000:\t0.429167\n",
      "svm_experts_pilot_linear:\t0.307692\n",
      "svm_crowd_pilot_linear:\t0.534483\n",
      "svm_crowd_all_linear:\t0.534483\n",
      "svm_combined_all_linear:\t0.431667\n",
      "svm_experts_pilot_rbf:\t0.538462\n",
      "svm_crowd_pilot_rbf:\t0.500000\n",
      "svm_crowd_all_rbf:\t0.534483\n",
      "svm_combined_all_rbf:\t0.414167\n",
      "svm_experts_pilot_poly:\t0.538462\n",
      "svm_crowd_pilot_poly:\t0.568966\n",
      "svm_crowd_all_poly:\t0.517241\n",
      "svm_combined_all_poly:\t0.427500\n",
      "svm_experts_pilot_sigmoid:\t0.307692\n",
      "svm_crowd_pilot_sigmoid:\t0.534483\n",
      "svm_crowd_all_sigmoid:\t0.431034\n",
      "svm_combined_all_sigmoid:\t0.435000\n",
      "nn_experts_pilot:\t0.443846\n",
      "nn_crowd_pilot:\t0.519310\n",
      "nn_crowd_all:\t0.508793\n",
      "nn_combined_all:\t0.484167\n",
      "nn_crowd_pilot_inc:\t0.529167\n",
      "nn_crowd_all_inc:\t0.517500\n",
      "nn_combined_all_inc:\t0.466667\n"
     ]
    }
   ],
   "source": [
    "##### titles\n",
    "for e in results_titles.columns:\n",
    "    print('%s:\\t%f' % (e, np.mean(results_titles[e].values)))"
   ]
  },
  {
   "cell_type": "code",
   "execution_count": 4,
   "id": "patent-disclosure",
   "metadata": {},
   "outputs": [
    {
     "name": "stdout",
     "output_type": "stream",
     "text": [
      "ridge_experts_pilot:\t0.615385\n",
      "ridge_crowd_pilot:\t0.583333\n",
      "ridge_crowd_all:\t0.666667\n",
      "ridge_combined_all:\t0.521739\n",
      "bayes_experts_pilot:\t0.692308\n",
      "bayes_crowd_pilot:\t0.333333\n",
      "bayes_crowd_all:\t0.375000\n",
      "bayes_combined_all:\t0.521739\n",
      "bayes_inc:\t0.573043\n",
      "forest_experts_pilot_100:\t0.711538\n",
      "forest_crowd_pilot_100:\t0.413333\n",
      "forest_crowd_all_100:\t0.478750\n",
      "forest_combined_all_100:\t0.606522\n",
      "forest_experts_pilot_250:\t0.724615\n",
      "forest_crowd_pilot_250:\t0.415000\n",
      "forest_crowd_all_250:\t0.477083\n",
      "forest_combined_all_250:\t0.616087\n",
      "forest_experts_pilot_500:\t0.739231\n",
      "forest_crowd_pilot_500:\t0.432500\n",
      "forest_crowd_all_500:\t0.476250\n",
      "forest_combined_all_500:\t0.628261\n",
      "forest_experts_pilot_750:\t0.735385\n",
      "forest_crowd_pilot_750:\t0.425833\n",
      "forest_crowd_all_750:\t0.483333\n",
      "forest_combined_all_750:\t0.633043\n",
      "forest_experts_pilot_1000:\t0.750769\n",
      "forest_crowd_pilot_1000:\t0.435000\n",
      "forest_crowd_all_1000:\t0.479583\n",
      "forest_combined_all_1000:\t0.636957\n",
      "forest_experts_pilot_2000:\t0.763077\n",
      "forest_crowd_pilot_2000:\t0.437500\n",
      "forest_crowd_all_2000:\t0.489167\n",
      "forest_combined_all_2000:\t0.639130\n",
      "svm_experts_pilot_linear:\t0.538462\n",
      "svm_crowd_pilot_linear:\t0.250000\n",
      "svm_crowd_all_linear:\t0.666667\n",
      "svm_combined_all_linear:\t0.521739\n",
      "svm_experts_pilot_rbf:\t0.615385\n",
      "svm_crowd_pilot_rbf:\t0.333333\n",
      "svm_crowd_all_rbf:\t0.541667\n",
      "svm_combined_all_rbf:\t0.565217\n",
      "svm_experts_pilot_poly:\t0.538462\n",
      "svm_crowd_pilot_poly:\t0.500000\n",
      "svm_crowd_all_poly:\t0.458333\n",
      "svm_combined_all_poly:\t0.478261\n",
      "svm_experts_pilot_sigmoid:\t0.384615\n",
      "svm_crowd_pilot_sigmoid:\t0.583333\n",
      "svm_crowd_all_sigmoid:\t0.625000\n",
      "svm_combined_all_sigmoid:\t0.565217\n",
      "nn_experts_pilot:\t0.525385\n",
      "nn_crowd_pilot:\t0.409167\n",
      "nn_crowd_all:\t0.448750\n",
      "nn_combined_all:\t0.433913\n"
     ]
    }
   ],
   "source": [
    "# descriptions\n",
    "for e in results_descriptions.columns:\n",
    "    print('%s:\\t%f' % (e, np.mean(results_descriptions[e].values)))"
   ]
  },
  {
   "cell_type": "code",
   "execution_count": 5,
   "id": "settled-soldier",
   "metadata": {},
   "outputs": [
    {
     "name": "stdout",
     "output_type": "stream",
     "text": [
      "ridge_experts_pilot:\t0.461538\n",
      "ridge_crowd_pilot:\t0.333333\n",
      "ridge_crowd_all:\t0.541667\n",
      "ridge_combined_all:\t0.478261\n",
      "bayes_experts_pilot:\t0.538462\n",
      "bayes_crowd_pilot:\t0.666667\n",
      "bayes_crowd_all:\t0.458333\n",
      "bayes_combined_all:\t0.565217\n",
      "bayes_inc:\t0.535652\n",
      "forest_experts_pilot_100:\t0.457692\n",
      "forest_crowd_pilot_100:\t0.778333\n",
      "forest_crowd_all_100:\t0.612083\n",
      "forest_combined_all_100:\t0.510435\n",
      "forest_experts_pilot_250:\t0.452308\n",
      "forest_crowd_pilot_250:\t0.790833\n",
      "forest_crowd_all_250:\t0.600000\n",
      "forest_combined_all_250:\t0.504348\n",
      "forest_experts_pilot_500:\t0.444615\n",
      "forest_crowd_pilot_500:\t0.811667\n",
      "forest_crowd_all_500:\t0.608333\n",
      "forest_combined_all_500:\t0.514348\n",
      "forest_experts_pilot_750:\t0.445385\n",
      "forest_crowd_pilot_750:\t0.814167\n",
      "forest_crowd_all_750:\t0.606250\n",
      "forest_combined_all_750:\t0.535652\n",
      "forest_experts_pilot_1000:\t0.441538\n",
      "forest_crowd_pilot_1000:\t0.810833\n",
      "forest_crowd_all_1000:\t0.605000\n",
      "forest_combined_all_1000:\t0.523478\n",
      "forest_experts_pilot_2000:\t0.432308\n",
      "forest_crowd_pilot_2000:\t0.805833\n",
      "forest_crowd_all_2000:\t0.603333\n",
      "forest_combined_all_2000:\t0.539130\n",
      "svm_experts_pilot_linear:\t0.461538\n",
      "svm_crowd_pilot_linear:\t0.500000\n",
      "svm_crowd_all_linear:\t0.583333\n",
      "svm_combined_all_linear:\t0.521739\n",
      "svm_experts_pilot_rbf:\t0.461538\n",
      "svm_crowd_pilot_rbf:\t0.666667\n",
      "svm_crowd_all_rbf:\t0.583333\n",
      "svm_combined_all_rbf:\t0.565217\n",
      "svm_experts_pilot_poly:\t0.538462\n",
      "svm_crowd_pilot_poly:\t0.666667\n",
      "svm_crowd_all_poly:\t0.666667\n",
      "svm_combined_all_poly:\t0.739130\n",
      "svm_experts_pilot_sigmoid:\t0.359231\n",
      "svm_crowd_pilot_sigmoid:\t0.583333\n",
      "svm_crowd_all_sigmoid:\t0.458333\n",
      "svm_combined_all_sigmoid:\t0.608696\n",
      "nn_experts_pilot:\t0.487692\n",
      "nn_crowd_pilot:\t0.547500\n",
      "nn_crowd_all:\t0.546667\n",
      "nn_combined_all:\t0.522609\n"
     ]
    }
   ],
   "source": [
    "# transcriptions\n",
    "for e in results_transcriptions.columns:\n",
    "    print('%s:\\t%f' % (e, np.mean(results_transcriptions[e].values)))"
   ]
  },
  {
   "cell_type": "markdown",
   "id": "identified-density",
   "metadata": {},
   "source": [
    "# plot accuracies"
   ]
  },
  {
   "cell_type": "code",
   "execution_count": 101,
   "id": "level-worker",
   "metadata": {},
   "outputs": [
    {
     "data": {
      "image/png": "[encoded data removed]",
      "text/plain": [
       "<Figure size 1008x1008 with 4 Axes>"
      ]
     },
     "metadata": {},
     "output_type": "display_data"
    }
   ],
   "source": [
    "fig, ((ax1, ax2), (ax3, ax4)) = plt.subplots(2, 2, figsize = (14, 14))\n",
    "sns.set_theme(context='paper', palette='cividis')\n",
    "sns.despine(left=True, bottom=True, trim=True)\n",
    "\n",
    "experts = results_descriptions[['ridge_experts_pilot', 'bayes_experts_pilot', 'forest_experts_pilot_2000', 'svm_experts_pilot_rbf', 'nn_experts_pilot']]\n",
    "chart = sns.barplot(ax=ax1, data=experts, ci=None)\n",
    "chart.set_xticklabels(['RR', 'NB', 'RF', 'SVM', 'NN'], rotation=30)\n",
    "for p in chart.patches:\n",
    "    chart.annotate(\"%.3f\" % p.get_height(), (p.get_x() + p.get_width() / 2., p.get_height()+0.01),\n",
    "                   ha='center', va='center', fontsize=10, color='black', xytext=(0, 5),\n",
    "                   textcoords='offset points')\n",
    "chart.text(x=3.7, y=0.82, s='Experts', fontsize=10, weight='bold')\n",
    "chart.set_ylim(0.3, 0.85) \n",
    "\n",
    "crowdpilot = results_transcriptions[['ridge_crowd_pilot', 'bayes_crowd_pilot', 'forest_crowd_pilot_750', 'svm_crowd_pilot_poly', 'nn_crowd_all']]\n",
    "chart = sns.barplot(ax=ax2, data=crowdpilot, ci=None)\n",
    "chart.set_xticklabels(['RR', 'NB', 'RF', 'SVM', 'NN'], rotation=30)\n",
    "for p in chart.patches:\n",
    "    chart.annotate(\"%.3f\" % p.get_height(), (p.get_x() + p.get_width() / 2., p.get_height()+0.01),\n",
    "                   ha='center', va='center', fontsize=10, color='black', xytext=(0, 5),\n",
    "                   textcoords='offset points')\n",
    "chart.text(x=2.7, y=0.82, s='Crowd (expert subset)', fontsize=10, weight='bold')\n",
    "chart.set_ylim(0.3, 0.85) \n",
    "\n",
    "crowdall = results_transcriptions[['ridge_crowd_all', 'bayes_crowd_all', 'forest_crowd_all_100', 'svm_crowd_all_poly', 'nn_crowd_all']]\n",
    "chart = sns.barplot(ax=ax3, data=crowdall, ci=None)\n",
    "chart.set_xticklabels(['RR', 'NB', 'RF', 'SVM', 'NN'], rotation=30)\n",
    "for p in chart.patches:\n",
    "    chart.annotate(\"%.3f\" % p.get_height(), (p.get_x() + p.get_width() / 2., p.get_height()+0.01),\n",
    "                   ha='center', va='center', fontsize=10, color='black', xytext=(0, 5),\n",
    "                   textcoords='offset points')\n",
    "chart.text(x=3.7, y=0.82, s='Crowd', fontsize=10, weight='bold')\n",
    "chart.set_ylim(0.3, 0.85) \n",
    "\n",
    "combined = results_transcriptions[['ridge_combined_all', 'bayes_combined_all', 'forest_combined_all_2000', 'svm_combined_all_poly', 'nn_combined_all']]\n",
    "chart = sns.barplot(ax=ax4, data=combined, ci=None)\n",
    "chart.set_xticklabels(['RR', 'NB', 'RF', 'SVM', 'NN'], rotation=30)\n",
    "for p in chart.patches:\n",
    "    chart.annotate(\"%.3f\" % p.get_height(), (p.get_x() + p.get_width() / 2., p.get_height()+0.01),\n",
    "                   ha='center', va='center', fontsize=10, color='black', xytext=(0, 5),\n",
    "                   textcoords='offset points')\n",
    "chart.text(x=3.2, y=0.82, s='Experts+Crowd', fontsize=10, weight='bold')\n",
    "chart.set_ylim(0.3, 0.85) \n",
    "\n",
    "for ax in fig.get_axes():\n",
    "    ax.label_outer()\n",
    "    ax.title.set_position([.5, 1.1])\n",
    "plt.subplots_adjust(hspace = 0.05, wspace = 0.05)\n",
    "\n",
    "fig.text(0.51, 0.08, 'classifier', ha='center', fontsize=14)\n",
    "fig.text(0.08, 0.5, 'mean accuracy (N = 100)', va='center', rotation='vertical', fontsize=14)\n",
    "\n",
    "plt.savefig(DATA_DIR+'accuracy4barplot.pdf', dpi=300)"
   ]
  },
  {
   "cell_type": "markdown",
   "id": "standing-monkey",
   "metadata": {},
   "source": [
    "# wide layout"
   ]
  },
  {
   "cell_type": "code",
   "execution_count": 104,
   "id": "compound-indian",
   "metadata": {},
   "outputs": [
    {
     "name": "stderr",
     "output_type": "stream",
     "text": [
      "<ipython-input-104-156993551129>:6: SettingWithCopyWarning: \n",
      "A value is trying to be set on a copy of a slice from a DataFrame.\n",
      "Try using .loc[row_indexer,col_indexer] = value instead\n",
      "\n",
      "See the caveats in the documentation: https://pandas.pydata.org/pandas-docs/stable/user_guide/indexing.html#returning-a-view-versus-a-copy\n",
      "  experts['majority_class'] = np.array([0.5345]*100)\n",
      "<ipython-input-104-156993551129>:17: SettingWithCopyWarning: \n",
      "A value is trying to be set on a copy of a slice from a DataFrame.\n",
      "Try using .loc[row_indexer,col_indexer] = value instead\n",
      "\n",
      "See the caveats in the documentation: https://pandas.pydata.org/pandas-docs/stable/user_guide/indexing.html#returning-a-view-versus-a-copy\n",
      "  crowdall['majority_class'] = np.array([0.5487]*100)\n",
      "<ipython-input-104-156993551129>:28: SettingWithCopyWarning: \n",
      "A value is trying to be set on a copy of a slice from a DataFrame.\n",
      "Try using .loc[row_indexer,col_indexer] = value instead\n",
      "\n",
      "See the caveats in the documentation: https://pandas.pydata.org/pandas-docs/stable/user_guide/indexing.html#returning-a-view-versus-a-copy\n",
      "  combined['majority_class'] = np.array([0.5310]*100)\n"
     ]
    },
    {
     "data": {
      "image/png": "[encoded data removed]",
      "text/plain": [
       "<Figure size 1080x288 with 3 Axes>"
      ]
     },
     "metadata": {},
     "output_type": "display_data"
    }
   ],
   "source": [
    "fig, ((ax1, ax2, ax3)) = plt.subplots(1, 3, figsize = (15, 4))\n",
    "sns.set_theme(context='paper', palette='cividis')\n",
    "sns.despine(left=True, bottom=True, trim=True)\n",
    "\n",
    "experts = results_descriptions[['ridge_experts_pilot', 'bayes_experts_pilot', 'forest_experts_pilot_2000', 'svm_experts_pilot_rbf', 'nn_experts_pilot']]\n",
    "experts['majority_class'] = np.array([0.5345]*100)\n",
    "chart = sns.barplot(ax=ax1, data=experts, ci=None, zorder=1)\n",
    "chart.set_xticklabels(['RR', 'NB', 'RF', 'SVM', 'NN', 'MC'], rotation=0)\n",
    "for p in chart.patches:\n",
    "    chart.annotate(\"%.3f\" % p.get_height(), (p.get_x() + p.get_width() / 2., p.get_height()+0.01),\n",
    "                   ha='center', va='center', fontsize=10, color='black', xytext=(0, 5),\n",
    "                   textcoords='offset points')\n",
    "chart.text(x=3.5, y=0.82, s='Experts', fontsize=10, weight='bold')\n",
    "chart.set_ylim(0.3, 0.85) \n",
    "\n",
    "crowdall = results_transcriptions[['ridge_crowd_all', 'bayes_crowd_all', 'forest_crowd_all_100', 'svm_crowd_all_poly', 'nn_crowd_all']]\n",
    "crowdall['majority_class'] = np.array([0.5487]*100)\n",
    "chart = sns.barplot(ax=ax2, data=crowdall, ci=None)\n",
    "chart.set_xticklabels(['RR', 'NB', 'RF', 'SVM', 'NN', 'MC'], rotation=0)\n",
    "for p in chart.patches:\n",
    "    chart.annotate(\"%.3f\" % p.get_height(), (p.get_x() + p.get_width() / 2., p.get_height()+0.01),\n",
    "                   ha='center', va='center', fontsize=10, color='black', xytext=(0, 5),\n",
    "                   textcoords='offset points')\n",
    "chart.text(x=3.7, y=0.82, s='Crowd', fontsize=10, weight='bold')\n",
    "chart.set_ylim(0.3, 0.85) \n",
    "\n",
    "combined = results_transcriptions[['ridge_combined_all', 'bayes_combined_all', 'forest_combined_all_2000', 'svm_combined_all_poly', 'nn_combined_all']]\n",
    "combined['majority_class'] = np.array([0.5310]*100)\n",
    "chart = sns.barplot(ax=ax3, data=combined, ci=None)\n",
    "chart.set_xticklabels(['RR', 'NB', 'RF', 'SVM', 'NN', 'MC'], rotation=0)\n",
    "for p in chart.patches:\n",
    "    chart.annotate(\"%.3f\" % p.get_height(), (p.get_x() + p.get_width() / 2., p.get_height()+0.01),\n",
    "                   ha='center', va='center', fontsize=10, color='black', xytext=(0, 5),\n",
    "                   textcoords='offset points')\n",
    "chart.text(x=2.7, y=0.82, s='Experts+Crowd', fontsize=10, weight='bold')\n",
    "chart.set_ylim(0.3, 0.85) \n",
    "\n",
    "for ax in fig.get_axes():\n",
    "    ax.label_outer()\n",
    "    ax.title.set_position([.5, 1.1])\n",
    "plt.subplots_adjust(hspace = 0.05, wspace = 0.1)\n",
    "\n",
    "fig.text(0.51, 0.0, 'classifier', ha='center', fontsize=14)\n",
    "fig.text(0.075, 0.5, 'mean accuracy (N = 100)', va='center', rotation='vertical', fontsize=14)\n",
    "\n",
    "plt.savefig(DATA_DIR+'accuracy3barplotW.pdf', dpi=300, bbox_inches='tight')"
   ]
  },
  {
   "cell_type": "markdown",
   "id": "relative-foster",
   "metadata": {},
   "source": [
    "# statistical analysis"
   ]
  },
  {
   "cell_type": "code",
   "execution_count": 6,
   "id": "empirical-picking",
   "metadata": {},
   "outputs": [],
   "source": [
    "# NOTE: only test pilot experiments on pilot subset\n",
    "def majority_vote(data, idx, num_classes=2):\n",
    "    num_samples = idx.shape[0]\n",
    "    vote = -np.ones(num_samples)\n",
    "    idx_map = {idx:i for i,idx in enumerate(idx)}\n",
    "    \n",
    "    for i in idx:\n",
    "        y = data[:, i].T\n",
    "        y = y[y>-1]\n",
    "        \n",
    "        if y.shape[0] <= 0:\n",
    "            # pick random if we lack a vote\n",
    "            y = np.random.choice(np.arange(num_classes), 1)\n",
    "            \n",
    "        vote[idx_map[i]] = stats.mode(y).mode[0]\n",
    "    \n",
    "    return vote"
   ]
  },
  {
   "cell_type": "code",
   "execution_count": 160,
   "id": "distinguished-basis",
   "metadata": {},
   "outputs": [
    {
     "name": "stdout",
     "output_type": "stream",
     "text": [
      "RF vs ridge_experts_pilot - p: 0.731601\n",
      "RF vs bayes_experts_pilot - p: 0.738883\n",
      "RF vs svm_experts_pilot_rbf - p: 0.705457\n",
      "RF vs nn_experts_pilot - p: 0.852684\n"
     ]
    }
   ],
   "source": [
    "# experts\n",
    "agent_a = majority_vote(output_descriptions[output_idx['forest_experts_pilot_2000']], idx=experts_pilot_idx)\n",
    "for model in ['ridge_experts_pilot', 'bayes_experts_pilot', 'svm_experts_pilot_rbf', 'nn_experts_pilot']:\n",
    "    agent_b = majority_vote(output_descriptions[output_idx[model]], idx=experts_pilot_idx)\n",
    "    p, Q = mcnemar(agent_a, agent_b)\n",
    "    print(\"RF vs %s - p: %f\" % (model, p))"
   ]
  },
  {
   "cell_type": "code",
   "execution_count": 48,
   "id": "twelve-paintball",
   "metadata": {},
   "outputs": [
    {
     "name": "stdout",
     "output_type": "stream",
     "text": [
      "SVM vs ridge_crowd_all - p: 0.173568\n",
      "SVM vs bayes_crowd_all - p: 0.093448\n",
      "SVM vs forest_crowd_all_100 - p: 0.579100\n",
      "SVM vs nn_crowd_all - p: 0.414216\n"
     ]
    }
   ],
   "source": [
    "# crowd\n",
    "agent_a = majority_vote(output_transcriptions[output_idx['svm_crowd_all_poly']], idx=crowd_all_idx)\n",
    "for model in ['ridge_crowd_all', 'bayes_crowd_all', 'forest_crowd_all_100', 'nn_crowd_all']:\n",
    "    agent_b = majority_vote(output_transcriptions[output_idx[model]], idx=crowd_all_idx)\n",
    "    p, Q = mcnemar(agent_a, agent_b)\n",
    "    print(\"SVM vs %s - p: %f\" % (model, p))"
   ]
  },
  {
   "cell_type": "code",
   "execution_count": 155,
   "id": "clinical-shadow",
   "metadata": {},
   "outputs": [
    {
     "name": "stdout",
     "output_type": "stream",
     "text": [
      "SVM vs ridge_combined_all - p: 0.029456\n",
      "SVM vs bayes_combined_all - p: 0.038867\n",
      "SVM vs forest_combined_all_2000 - p: 0.001370\n",
      "SVM vs nn_combined_all - p: 0.070701\n"
     ]
    }
   ],
   "source": [
    "# experts+crowd\n",
    "agent_a = majority_vote(output_transcriptions[output_idx['svm_combined_all_poly']], idx=combined_all_idx)\n",
    "for model in ['ridge_combined_all', 'bayes_combined_all', 'forest_combined_all_2000', 'nn_combined_all']:\n",
    "    agent_b = majority_vote(output_transcriptions[output_idx[model]], combined_all_idx)\n",
    "    p, Q = mcnemar(agent_a, agent_b)\n",
    "    print(\"SVM vs %s - p: %f\" % (model, p))"
   ]
  },
  {
   "cell_type": "code",
   "execution_count": 133,
   "id": "sophisticated-cargo",
   "metadata": {},
   "outputs": [
    {
     "name": "stdout",
     "output_type": "stream",
     "text": [
      "RR - p: 0.271539\n",
      "NB - p: 0.127508\n",
      "RF - p: 0.605577\n",
      "SVM - p: 0.024449\n",
      "NN - p: 0.792849\n"
     ]
    }
   ],
   "source": [
    "# crowd vs experts+crowds\n",
    "agent_a = majority_vote(output_transcriptions[output_idx['ridge_crowd_all']], idx=crowd_all_idx)\n",
    "agent_b = majority_vote(output_transcriptions[output_idx['ridge_combined_all']], idx=combined_all_idx)\n",
    "p, Q = mcnemar(agent_a, agent_b)\n",
    "print(\"RR - p: %f\" % p)\n",
    "\n",
    "agent_a = majority_vote(output_transcriptions[output_idx['bayes_crowd_all']], idx=crowd_all_idx)\n",
    "agent_b = majority_vote(output_transcriptions[output_idx['bayes_combined_all']], idx=combined_all_idx)\n",
    "p, Q = mcnemar(agent_a, agent_b)\n",
    "print(\"NB - p: %f\" % p)\n",
    "\n",
    "agent_a = majority_vote(output_transcriptions[output_idx['forest_crowd_all_100']], idx=crowd_all_idx)\n",
    "agent_b = majority_vote(output_transcriptions[output_idx['forest_combined_all_2000']], idx=combined_all_idx)\n",
    "p, Q = mcnemar(agent_a, agent_b)\n",
    "print(\"RF - p: %f\" % p)\n",
    "\n",
    "agent_a = majority_vote(output_transcriptions[output_idx['svm_crowd_all_poly']], idx=crowd_all_idx)\n",
    "agent_b = majority_vote(output_transcriptions[output_idx['svm_combined_all_poly']], idx=combined_all_idx)\n",
    "p, Q = mcnemar(agent_a, agent_b)\n",
    "print(\"SVM - p: %f\" % p)\n",
    "\n",
    "agent_a = majority_vote(output_transcriptions[output_idx['nn_crowd_all']], idx=crowd_all_idx)\n",
    "agent_b = majority_vote(output_transcriptions[output_idx['nn_combined_all']], idx=combined_all_idx)\n",
    "p, Q = mcnemar(agent_a, agent_b)\n",
    "print(\"NN - p: %f\" % p)"
   ]
  },
  {
   "cell_type": "code",
   "execution_count": null,
   "id": "center-bermuda",
   "metadata": {},
   "outputs": [],
   "source": []
  },
  {
   "cell_type": "code",
   "execution_count": null,
   "id": "advanced-quarter",
   "metadata": {},
   "outputs": [],
   "source": []
  }
 ],
 "metadata": {
  "kernelspec": {
   "display_name": "Python 3",
   "language": "python",
   "name": "python3"
  },
  "language_info": {
   "codemirror_mode": {
    "name": "ipython",
    "version": 3
   },
   "file_extension": ".py",
   "mimetype": "text/x-python",
   "name": "python",
   "nbconvert_exporter": "python",
   "pygments_lexer": "ipython3",
   "version": "3.9.2"
  }
 },
 "nbformat": 4,
 "nbformat_minor": 5
}
