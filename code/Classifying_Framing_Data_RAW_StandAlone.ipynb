{
 "cells": [
  {
   "cell_type": "code",
   "execution_count": 1,
   "metadata": {},
   "outputs": [],
   "source": [
    "## prequisites\n",
    "#%pip install pandas\n",
    "#%pip install numpy\n",
    "\n",
    "## libraries\n",
    "from collections import Counter\n",
    "from math import log\n",
    "import os\n",
    "import os.path\n",
    "import random\n",
    "import re\n",
    "import pandas as pd\n",
    "import numpy as np\n",
    "\n",
    "## project structure\n",
    "DATA_DIR = \"/data/projects/capturingBias/research/framing/data/\"  # change to \"./\" for current directory\n",
    "VIDEO_METADATA = DATA_DIR + \"2014_metadata.csv\"\n",
    "VIDEO_TRANSCRIPTIONS = DATA_DIR + \"2014_transcripts_months_1to4.csv\"\n",
    "DATA_NPZ = DATA_DIR + \"sequences_raw.npz\"\n",
    "\n",
    "## load files\n",
    "video_metadata = pd.read_csv(VIDEO_METADATA, delimiter=';')\n",
    "video_transcriptions = pd.read_csv(VIDEO_TRANSCRIPTIONS)"
   ]
  },
  {
   "cell_type": "code",
   "execution_count": 2,
   "metadata": {},
   "outputs": [],
   "source": [
    "## drop duplicates\n",
    "video_transcriptions = video_transcriptions.drop_duplicates(subset='display_id', keep='last')\n",
    "video_metadata = video_metadata.drop_duplicates(subset='display_id', keep='last')\n",
    "\n",
    "## remove rows with missing transcriptions\n",
    "video_transcriptions = video_transcriptions[video_transcriptions['clean_text'].notna()]\n",
    "\n",
    "## remove meta data entries that we don't have transcriptions for\n",
    "video_ids = np.intersect1d(video_metadata['display_id'].values, video_transcriptions['display_id'].values)\n",
    "video_metadata = video_metadata[video_metadata['display_id'].isin(video_ids)]\n",
    "video_transcriptions = video_transcriptions[video_transcriptions['display_id'].isin(video_ids)]\n",
    "\n",
    "assert(len(video_metadata) == len(video_transcriptions))"
   ]
  },
  {
   "cell_type": "code",
   "execution_count": 3,
   "metadata": {},
   "outputs": [],
   "source": [
    "## sort using same index so video_metadate[i] matches video_transcriptions[i]\n",
    "video_metadata = video_metadata.sort_values(by=['display_id'])\n",
    "video_transcriptions = video_transcriptions.set_index('display_id')\n",
    "video_transcriptions = video_transcriptions.reindex(index=video_metadata['display_id'])\n",
    "video_transcriptions = video_transcriptions.reset_index()\n",
    "\n",
    "## mapping display_id to index\n",
    "video_idx = video_metadata['display_id'].values"
   ]
  },
  {
   "cell_type": "code",
   "execution_count": 4,
   "metadata": {},
   "outputs": [],
   "source": [
    "np.savez_compressed(DATA_NPZ, \n",
    "                    video_idx=video_idx,\n",
    "                    titles=video_metadata['fulltitle'].values,\n",
    "                    descriptions=video_metadata['description'].values,\n",
    "                    tags=video_metadata['tags'].values,\n",
    "                    transcriptions=video_transcriptions['clean_text'].values)"
   ]
  }
 ],
 "metadata": {
  "kernelspec": {
   "display_name": "Python 3",
   "language": "python",
   "name": "python3"
  },
  "language_info": {
   "codemirror_mode": {
    "name": "ipython",
    "version": 3
   },
   "file_extension": ".py",
   "mimetype": "text/x-python",
   "name": "python",
   "nbconvert_exporter": "python",
   "pygments_lexer": "ipython3",
   "version": "3.8.2"
  }
 },
 "nbformat": 4,
 "nbformat_minor": 4
}
