{
 "cells": [
  {
   "cell_type": "markdown",
   "metadata": {},
   "source": [
    "# Classifying framing in videos\n",
    "\n",
    "Our aim is to investigate whether we can determine the kind of framing, episodic or thematic, that is used in news videos. \n",
    "\n",
    "## Limitations\n",
    "\n",
    "Only a small number of labeled samples are available, even less of which have been labeled by experts (as opposed to the crowd). This places a higher bound on the generalizability of our models, and makes it more challenging to train deep models. Therefor, this will serve as a proof-of-concept study."
   ]
  },
  {
   "cell_type": "code",
   "execution_count": 3,
   "metadata": {},
   "outputs": [],
   "source": [
    "## prequisites\n",
    "#%pip install pandas\n",
    "#%pip install numpy\n",
    "\n",
    "## libraries\n",
    "from collections import Counter\n",
    "from math import log\n",
    "import os\n",
    "import os.path\n",
    "import random\n",
    "import re\n",
    "import pandas as pd\n",
    "import numpy as np\n",
    "\n",
    "## project structure\n",
    "DATA_DIR = \"/data/projects/capturingBias/research/framing/data/\"  # change to \"./\" for current directory\n",
    "CROWD_RESULTS = DATA_DIR + \"120CSexperimentCrowdResults.csv\"\n",
    "CROWD_FILTERS = DATA_DIR + \"crowd_data_filtered_worker_ip_and_gender_and_type_and_title.csv\"\n",
    "EXPERT_RESULTS = DATA_DIR + \"expert_annotations_aggregated.csv\"\n",
    "DATA_NPZ = DATA_DIR + \"sequences_preprocessed.npz\"\n",
    "TARGETS_NPZ = DATA_DIR + \"targets.npz\"\n",
    "\n",
    "## load files\n",
    "crowd_results = pd.read_csv(CROWD_RESULTS, delimiter=';')\n",
    "expert_results = pd.read_csv(EXPERT_RESULTS)\n",
    "crowd_filters = pd.read_csv(CROWD_FILTERS)\n",
    "\n",
    "data = np.load(DATA_NPZ, allow_pickle=True)\n",
    "video_idx = data['video_idx']"
   ]
  },
  {
   "cell_type": "code",
   "execution_count": 4,
   "metadata": {},
   "outputs": [],
   "source": [
    "def set_seed(seed=-1):\n",
    "    if seed < 0:\n",
    "        seed = np.random.randint(0, 2**32-1)\n",
    "\n",
    "    os.environ['PYTHONHASHSEED'] = str(seed)\n",
    "    random.seed(seed)\n",
    "    np.random.seed(seed)\n",
    "    \n",
    "#set_seed(47)  # make reproducable"
   ]
  },
  {
   "cell_type": "markdown",
   "metadata": {},
   "source": [
    "# Preproces Data"
   ]
  },
  {
   "cell_type": "code",
   "execution_count": 5,
   "metadata": {},
   "outputs": [
    {
     "name": "stdout",
     "output_type": "stream",
     "text": [
      "Crowd responses: 1860\n",
      "Crowd responses remain after filtering: 930\n"
     ]
    }
   ],
   "source": [
    "## Filter crowd?\n",
    "print(\"Crowd responses: %i\" % len(crowd_results))\n",
    "if True:\n",
    "    good_raters = np.unique(crowd_filters['_worker_id'].values)\n",
    "    crowd_results = crowd_results[crowd_results['_worker_id'].isin(good_raters)]\n",
    "    print(\"Crowd responses remain after filtering: %i\" % len(crowd_results))"
   ]
  },
  {
   "cell_type": "code",
   "execution_count": 6,
   "metadata": {},
   "outputs": [],
   "source": [
    "## fix missing video IDs\n",
    "for index, row in crowd_results.loc[crowd_results['display_id'] == '#NAME?'].iterrows():\n",
    "    video_id = row['link'].lstrip('https://www.youtube.com/watch?v=')\n",
    "    crowd_results.loc[index, 'display_id'] = video_id"
   ]
  },
  {
   "cell_type": "markdown",
   "metadata": {},
   "source": [
    "# Inspect data"
   ]
  },
  {
   "cell_type": "code",
   "execution_count": 8,
   "metadata": {},
   "outputs": [
    {
     "name": "stdout",
     "output_type": "stream",
     "text": [
      "\n",
      "Crowd Results\n",
      "======================================================================\n",
      "_trust                                                            0.5357\n",
      "_worker_id                                                      45527958\n",
      "_country                                                             EGY\n",
      "_region                                                                5\n",
      "_city                                                              Tanta\n",
      "_ip                                                       197.246.228.58\n",
      "gender                                                              male\n",
      "VideoPortionWatched                               only_part_of_the_video\n",
      "Trustworthiness                                                        4\n",
      "Emotion                                                                5\n",
      "VideoCategory                                                 world_news\n",
      "Frame                                                                  4\n",
      "PersonalStory                                                        yes\n",
      "NoteworthyKeywords     NASA suspends ties with Russia over Ukraine, s...\n",
      "Dominant_Frame                                                  episodic\n",
      "VideoTitle             NASA SUSPENDS TIES WITH RUSSIA OVER UKRAINE, S...\n",
      "ImagesVSWords                                                      words\n",
      "display_id                                                   aWqZ5WHQrzg\n",
      "link                         https://www.youtube.com/watch?v=aWqZ5WHQrzg\n",
      "Channels                                                              RT\n",
      "Name: 6, dtype: object\n",
      "\n",
      "Expert Results\n",
      "======================================================================\n",
      "display_id                                                       -7xsam1-KSQ\n",
      "title                                Russian nostalgia over Crimea vacations\n",
      "fulltitle                            Russian nostalgia over Crimea vacations\n",
      "description                Many in Crimea favour Russia over Ukraine and ...\n",
      "upload_date                                                       2014-03-12\n",
      "duration                                                                 179\n",
      "uploader                                                  Al Jazeera English\n",
      "thumbnail                  https://i.ytimg.com/vi/-7xsam1-KSQ/maxresdefau...\n",
      "tags                       3328932389001+Crimea+package+Europe+Al Jazeera...\n",
      "categories                                                   News & Politics\n",
      "framing_type                                                        Episodic\n",
      "framing_score                                                              6\n",
      "story_present                                                            Yes\n",
      "watch_full_video                                                         Yes\n",
      "framing_reason                                              Images and words\n",
      "sentiment_present                                                        Yes\n",
      "sentiment_label                                                     Positive\n",
      "sentiment_magnitude                                                        *\n",
      "trustworthiness                                                            6\n",
      "framing_type_all                                Thematic, Episodic, Episodic\n",
      "framing_score_all                                                    3, 6, 6\n",
      "story_present_all                                              Yes, Yes, Yes\n",
      "watch_full_video_all                                            Yes, No, Yes\n",
      "framing_reason_all         Images and words, Images and words, Images and...\n",
      "sentiment_present_all                                          Yes, Yes, Yes\n",
      "sentiment_label_all                             Positive, Positive, Positive\n",
      "sentiment_magnitude_all                                            4.0, *, *\n",
      "trustworthiness_all                                                  6, 4, 6\n",
      "full_agreement                                                             0\n",
      "Name: 1, dtype: object\n",
      "\n",
      "Statistics\n",
      "======================================================================\n",
      " - experts watched 58 videos\n",
      " - crowd watched 119 videos (7.815126050420168 average labels per video)\n",
      "   58 of which are also labeled by our experts\n"
     ]
    }
   ],
   "source": [
    "print(\"\\nCrowd Results\\n\" + '='*70)\n",
    "print(crowd_results.iloc[1])\n",
    "\n",
    "print(\"\\nExpert Results\\n\" + '='*70)\n",
    "print(expert_results.iloc[1])\n",
    "\n",
    "print(\"\\nStatistics\\n\" + '='*70)\n",
    "crowd_labels_per_video = crowd_results['display_id'].value_counts().values\n",
    "expert_labels_per_video = expert_results['display_id'].value_counts().values\n",
    "crowd_videos_uniq = np.unique(crowd_results['display_id'].values)\n",
    "expert_videos_uniq = np.unique(expert_results['display_id'].values)\n",
    "print(\" - experts watched {} videos\".format(expert_videos_uniq.shape[0]))\n",
    "print(\" - crowd watched {} videos ({} average labels per video)\".format(crowd_videos_uniq.shape[0],\n",
    "                                                                        crowd_labels_per_video.sum()/crowd_labels_per_video.shape[0]))\n",
    "print(\"   {} of which are also labeled by our experts\".format(np.isin(expert_videos_uniq,\n",
    "                                                                      crowd_videos_uniq).sum()))"
   ]
  },
  {
   "cell_type": "code",
   "execution_count": 10,
   "metadata": {},
   "outputs": [],
   "source": [
    "## return majority class per video or, if no majority, return mid point if exists, \n",
    "## else return random selection from most common score\n",
    "def create_targets(video_ids, annotations):\n",
    "    labels = {display_id: [] for display_id in video_ids}\n",
    "    for index, row in annotations.iterrows():\n",
    "        labels[row['display_id']].append(row['Frame'])\n",
    "    \n",
    "    targets = dict()\n",
    "    for display_id, label_set in labels.items():\n",
    "        ct = Counter(label_set)\n",
    "        ct_max = max(ct.values())\n",
    "        majority_vote = [label for label, count in ct.items() if count == ct_max]\n",
    "        \n",
    "        if len(majority_vote) == 1:\n",
    "            targets[display_id] = majority_vote[0]\n",
    "        else:  # different labels with same number of votes\n",
    "            mid_point = sum(majority_vote)/len(majority_vote)\n",
    "            if mid_point.is_integer():  # whole number\n",
    "                targets[display_id] = int(mid_point)\n",
    "            else:  # random selection\n",
    "                targets[display_id] = np.random.choice(majority_vote)\n",
    "                \n",
    "    return targets\n",
    "\n",
    "def create_splits(n):\n",
    "    sample_idx = np.arange(n)\n",
    "    np.random.shuffle(sample_idx)\n",
    "    \n",
    "    return (sample_idx[:int(n*0.8)], sample_idx[int(n*0.8):])"
   ]
  },
  {
   "cell_type": "code",
   "execution_count": 13,
   "metadata": {},
   "outputs": [],
   "source": [
    "## create mappings\n",
    "video_idx_map = {display_id: i for i, display_id in enumerate(video_idx)}\n",
    "idx_video_map = {i: display_id for display_id, i in video_idx_map.items()}\n",
    "labeled_samples_ids = np.union1d(crowd_videos_uniq, expert_videos_uniq)\n",
    "labeled_samples_idx = [idx for video_id, idx in video_idx_map.items()\n",
    "                            if video_id in labeled_samples_ids]"
   ]
  },
  {
   "cell_type": "code",
   "execution_count": 15,
   "metadata": {},
   "outputs": [],
   "source": [
    "num_samples = video_idx.shape[0]\n",
    "\n",
    "## generate labels - 7 point Likert scale\n",
    "y_likert_crowd = -np.ones(num_samples)\n",
    "for video_id, label in create_targets(crowd_videos_uniq, crowd_results).items():\n",
    "    y_likert_crowd[video_idx_map[video_id]] = label - 1  # 0-based\n",
    "    \n",
    "y_likert_experts = -np.ones(num_samples)\n",
    "for _, row in expert_results.iterrows():\n",
    "    y_likert_experts[video_idx_map[row.display_id]] = row.framing_score - 1  # 0-based\n",
    "    \n",
    "## alternate labels - binary classification of framing type\n",
    "y_dominant_crowd = -np.ones(num_samples)\n",
    "for i in range(y_likert_crowd.shape[0]):\n",
    "    if y_likert_crowd[i] < 0:\n",
    "        continue\n",
    "    if y_likert_crowd[i] < 3:\n",
    "        y_dominant_crowd[i] = 0\n",
    "    elif y_likert_crowd[i] > 3:\n",
    "        y_dominant_crowd[i] = 1\n",
    "\n",
    "y_dominant_experts = -np.ones(num_samples)\n",
    "for _, row in expert_results.iterrows():\n",
    "    framing_type = 0 if row.framing_type == \"Thematic\" else 1  # if episodic\n",
    "    y_dominant_experts[video_idx_map[row.display_id]] = framing_type\n",
    "        \n",
    "## combined set - no distinction between experts and crowd\n",
    "y_likert_combined = np.copy(y_likert_experts)  # expert labels are preferred\n",
    "copy_idx = np.where(y_likert_combined == -1)[0]\n",
    "y_likert_combined[copy_idx] = y_likert_crowd[copy_idx]\n",
    "\n",
    "y_dominant_combined = np.copy(y_dominant_experts)  # expert labels are preferred\n",
    "copy_idx = np.where(y_dominant_combined == -1)[0]\n",
    "y_dominant_combined[copy_idx] = y_dominant_crowd[copy_idx]"
   ]
  },
  {
   "cell_type": "markdown",
   "metadata": {},
   "source": [
    "# Save data"
   ]
  },
  {
   "cell_type": "code",
   "execution_count": 17,
   "metadata": {},
   "outputs": [],
   "source": [
    "np.savez_compressed(TARGETS_NPZ,\n",
    "                    target_idx = labeled_samples_idx,\n",
    "                    y_likert_crowd = y_likert_crowd,\n",
    "                    y_likert_experts = y_likert_experts,\n",
    "                    y_dominant_crowd = y_dominant_crowd,\n",
    "                    y_dominant_experts = y_dominant_experts,\n",
    "                    y_likert_combined = y_likert_combined,\n",
    "                    y_dominant_combined = y_dominant_combined)"
   ]
  }
 ],
 "metadata": {
  "kernelspec": {
   "display_name": "Python 3",
   "language": "python",
   "name": "python3"
  },
  "language_info": {
   "codemirror_mode": {
    "name": "ipython",
    "version": 3
   },
   "file_extension": ".py",
   "mimetype": "text/x-python",
   "name": "python",
   "nbconvert_exporter": "python",
   "pygments_lexer": "ipython3",
   "version": "3.8.2"
  }
 },
 "nbformat": 4,
 "nbformat_minor": 4
}
