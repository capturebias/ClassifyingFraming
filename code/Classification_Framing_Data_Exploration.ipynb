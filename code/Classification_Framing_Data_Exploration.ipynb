{
 "cells": [
  {
   "cell_type": "code",
   "execution_count": 79,
   "metadata": {},
   "outputs": [],
   "source": [
    "## prequisites\n",
    "#%pip install pandas\n",
    "#%pip install numpy\n",
    "#%pip install scipy\n",
    "#%pip install sklearn\n",
    "\n",
    "## libraries\n",
    "from IPython.display import display, HTML\n",
    "import os\n",
    "import os.path\n",
    "import random\n",
    "import re\n",
    "import pandas as pd\n",
    "import numpy as np\n",
    "from scipy.stats import kendalltau, mannwhitneyu\n",
    "from scipy.stats.mstats import chisquare\n",
    "from sklearn.metrics import cohen_kappa_score\n",
    "\n",
    "## project structure\n",
    "DATA_DIR = \"/data/projects/capturingBias/research/framing/data/\"  # change to \"./\" for current directory\n",
    "CROWD_RESULTS = DATA_DIR + \"120CSexperimentCrowdResults.csv\"\n",
    "EXPERT_RESULTS = DATA_DIR + \"ExpertAnnotationsEpisodicVSThematic.tsv\"\n",
    "CROWD_FILTERS = DATA_DIR + \"crowd_data_filtered_worker_ip_and_gender_and_type_and_title.csv\"\n",
    "\n",
    "## load files\n",
    "crowd_results = pd.read_csv(CROWD_RESULTS, delimiter=';')\n",
    "expert_results = pd.read_csv(EXPERT_RESULTS, delimiter='\\t')\n",
    "crowd_filters = pd.read_csv(CROWD_FILTERS)\n",
    "\n",
    "## filter crowd\n",
    "good_raters = np.unique(crowd_filters['_worker_id'].values)\n",
    "crowd_results_filtered = crowd_results[crowd_results['_worker_id'].isin(good_raters)]"
   ]
  },
  {
   "cell_type": "code",
   "execution_count": 80,
   "metadata": {},
   "outputs": [],
   "source": [
    "annotators = pd.unique(expert_results['annotator'])\n",
    "\n",
    "def interexperts(label, level):\n",
    "    expert_corr = {'annotator' : annotators}\n",
    "    expert_corr.update({annotator: list() for annotator in annotators})\n",
    "    expert_dist = {'annotator' : annotators}\n",
    "    expert_dist.update({annotator: list() for annotator in annotators})\n",
    "    for annotator_a in annotators:\n",
    "        data_a = expert_results[expert_results['annotator'] == annotator_a].copy()\n",
    "        data_a.sort_values(by='display_id', inplace=True)\n",
    "        data_a = data_a[label].values\n",
    "        for annotator_b in annotators:\n",
    "            if annotator_a == annotator_b:\n",
    "                expert_corr[annotator_a].append(np.nan)\n",
    "                expert_dist[annotator_a].append(np.nan)\n",
    "                continue\n",
    "\n",
    "            data_b = expert_results[expert_results['annotator'] == annotator_b].copy()\n",
    "            data_b.sort_values(by='display_id', inplace=True)\n",
    "            data_b = data_b[label].values\n",
    "\n",
    "            if level == \"ordinal\":\n",
    "                expert_corr[annotator_a].append(kendalltau(data_a, data_b)[0])\n",
    "                expert_dist[annotator_a].append(mannwhitneyu(data_a, data_b)[1])\n",
    "            elif level == \"nominal\":\n",
    "                expert_corr[annotator_a].append(cohen_kappa_score(data_a, data_b))\n",
    "                data_a_freq = [np.count_nonzero(data_a == 'Episodic'), \n",
    "                               np.count_nonzero(data_a == 'Thematic')]\n",
    "                data_b_freq = [np.count_nonzero(data_b == 'Episodic'), \n",
    "                               np.count_nonzero(data_b == 'Thematic')]\n",
    "                expert_dist[annotator_a].append(chisquare(data_a_freq, data_b_freq)[1])\n",
    "\n",
    "    print(\"=\"*10+\" Correlation \"+10*\"=\")\n",
    "    corr = pd.DataFrame(expert_corr)\n",
    "    display(corr)\n",
    "\n",
    "    print(\"=\"*10+\" H0: same distribution \"+10*\"=\")\n",
    "    dist = pd.DataFrame(expert_dist)\n",
    "    display(dist)"
   ]
  },
  {
   "cell_type": "code",
   "execution_count": 81,
   "metadata": {},
   "outputs": [
    {
     "name": "stdout",
     "output_type": "stream",
     "text": [
      "========== Correlation ==========\n"
     ]
    },
    {
     "data": {
      "text/html": [
       "<div>\n",
       "<style scoped>\n",
       "    .dataframe tbody tr th:only-of-type {\n",
       "        vertical-align: middle;\n",
       "    }\n",
       "\n",
       "    .dataframe tbody tr th {\n",
       "        vertical-align: top;\n",
       "    }\n",
       "\n",
       "    .dataframe thead th {\n",
       "        text-align: right;\n",
       "    }\n",
       "</style>\n",
       "<table border=\"1\" class=\"dataframe\">\n",
       "  <thead>\n",
       "    <tr style=\"text-align: right;\">\n",
       "      <th></th>\n",
       "      <th>annotator</th>\n",
       "      <th>Mykola</th>\n",
       "      <th>Honorata</th>\n",
       "      <th>Antoaneta</th>\n",
       "    </tr>\n",
       "  </thead>\n",
       "  <tbody>\n",
       "    <tr>\n",
       "      <th>0</th>\n",
       "      <td>Mykola</td>\n",
       "      <td>NaN</td>\n",
       "      <td>0.279503</td>\n",
       "      <td>0.340120</td>\n",
       "    </tr>\n",
       "    <tr>\n",
       "      <th>1</th>\n",
       "      <td>Honorata</td>\n",
       "      <td>0.279503</td>\n",
       "      <td>NaN</td>\n",
       "      <td>0.617964</td>\n",
       "    </tr>\n",
       "    <tr>\n",
       "      <th>2</th>\n",
       "      <td>Antoaneta</td>\n",
       "      <td>0.340120</td>\n",
       "      <td>0.617964</td>\n",
       "      <td>NaN</td>\n",
       "    </tr>\n",
       "  </tbody>\n",
       "</table>\n",
       "</div>"
      ],
      "text/plain": [
       "   annotator    Mykola  Honorata  Antoaneta\n",
       "0     Mykola       NaN  0.279503   0.340120\n",
       "1   Honorata  0.279503       NaN   0.617964\n",
       "2  Antoaneta  0.340120  0.617964        NaN"
      ]
     },
     "metadata": {},
     "output_type": "display_data"
    },
    {
     "name": "stdout",
     "output_type": "stream",
     "text": [
      "========== H0: same distribution ==========\n"
     ]
    },
    {
     "data": {
      "text/html": [
       "<div>\n",
       "<style scoped>\n",
       "    .dataframe tbody tr th:only-of-type {\n",
       "        vertical-align: middle;\n",
       "    }\n",
       "\n",
       "    .dataframe tbody tr th {\n",
       "        vertical-align: top;\n",
       "    }\n",
       "\n",
       "    .dataframe thead th {\n",
       "        text-align: right;\n",
       "    }\n",
       "</style>\n",
       "<table border=\"1\" class=\"dataframe\">\n",
       "  <thead>\n",
       "    <tr style=\"text-align: right;\">\n",
       "      <th></th>\n",
       "      <th>annotator</th>\n",
       "      <th>Mykola</th>\n",
       "      <th>Honorata</th>\n",
       "      <th>Antoaneta</th>\n",
       "    </tr>\n",
       "  </thead>\n",
       "  <tbody>\n",
       "    <tr>\n",
       "      <th>0</th>\n",
       "      <td>Mykola</td>\n",
       "      <td>NaN</td>\n",
       "      <td>1.000000</td>\n",
       "      <td>0.179562</td>\n",
       "    </tr>\n",
       "    <tr>\n",
       "      <th>1</th>\n",
       "      <td>Honorata</td>\n",
       "      <td>1.000000</td>\n",
       "      <td>NaN</td>\n",
       "      <td>0.179562</td>\n",
       "    </tr>\n",
       "    <tr>\n",
       "      <th>2</th>\n",
       "      <td>Antoaneta</td>\n",
       "      <td>0.188898</td>\n",
       "      <td>0.188898</td>\n",
       "      <td>NaN</td>\n",
       "    </tr>\n",
       "  </tbody>\n",
       "</table>\n",
       "</div>"
      ],
      "text/plain": [
       "   annotator    Mykola  Honorata  Antoaneta\n",
       "0     Mykola       NaN  1.000000   0.179562\n",
       "1   Honorata  1.000000       NaN   0.179562\n",
       "2  Antoaneta  0.188898  0.188898        NaN"
      ]
     },
     "metadata": {},
     "output_type": "display_data"
    }
   ],
   "source": [
    "interexperts('Dominant Frame', level='nominal')"
   ]
  },
  {
   "cell_type": "code",
   "execution_count": 82,
   "metadata": {},
   "outputs": [
    {
     "name": "stdout",
     "output_type": "stream",
     "text": [
      "========== Correlation ==========\n"
     ]
    },
    {
     "data": {
      "text/html": [
       "<div>\n",
       "<style scoped>\n",
       "    .dataframe tbody tr th:only-of-type {\n",
       "        vertical-align: middle;\n",
       "    }\n",
       "\n",
       "    .dataframe tbody tr th {\n",
       "        vertical-align: top;\n",
       "    }\n",
       "\n",
       "    .dataframe thead th {\n",
       "        text-align: right;\n",
       "    }\n",
       "</style>\n",
       "<table border=\"1\" class=\"dataframe\">\n",
       "  <thead>\n",
       "    <tr style=\"text-align: right;\">\n",
       "      <th></th>\n",
       "      <th>annotator</th>\n",
       "      <th>Mykola</th>\n",
       "      <th>Honorata</th>\n",
       "      <th>Antoaneta</th>\n",
       "    </tr>\n",
       "  </thead>\n",
       "  <tbody>\n",
       "    <tr>\n",
       "      <th>0</th>\n",
       "      <td>Mykola</td>\n",
       "      <td>NaN</td>\n",
       "      <td>0.308426</td>\n",
       "      <td>0.345582</td>\n",
       "    </tr>\n",
       "    <tr>\n",
       "      <th>1</th>\n",
       "      <td>Honorata</td>\n",
       "      <td>0.308426</td>\n",
       "      <td>NaN</td>\n",
       "      <td>0.672277</td>\n",
       "    </tr>\n",
       "    <tr>\n",
       "      <th>2</th>\n",
       "      <td>Antoaneta</td>\n",
       "      <td>0.345582</td>\n",
       "      <td>0.672277</td>\n",
       "      <td>NaN</td>\n",
       "    </tr>\n",
       "  </tbody>\n",
       "</table>\n",
       "</div>"
      ],
      "text/plain": [
       "   annotator    Mykola  Honorata  Antoaneta\n",
       "0     Mykola       NaN  0.308426   0.345582\n",
       "1   Honorata  0.308426       NaN   0.672277\n",
       "2  Antoaneta  0.345582  0.672277        NaN"
      ]
     },
     "metadata": {},
     "output_type": "display_data"
    },
    {
     "name": "stdout",
     "output_type": "stream",
     "text": [
      "========== H0: same distribution ==========\n"
     ]
    },
    {
     "data": {
      "text/html": [
       "<div>\n",
       "<style scoped>\n",
       "    .dataframe tbody tr th:only-of-type {\n",
       "        vertical-align: middle;\n",
       "    }\n",
       "\n",
       "    .dataframe tbody tr th {\n",
       "        vertical-align: top;\n",
       "    }\n",
       "\n",
       "    .dataframe thead th {\n",
       "        text-align: right;\n",
       "    }\n",
       "</style>\n",
       "<table border=\"1\" class=\"dataframe\">\n",
       "  <thead>\n",
       "    <tr style=\"text-align: right;\">\n",
       "      <th></th>\n",
       "      <th>annotator</th>\n",
       "      <th>Mykola</th>\n",
       "      <th>Honorata</th>\n",
       "      <th>Antoaneta</th>\n",
       "    </tr>\n",
       "  </thead>\n",
       "  <tbody>\n",
       "    <tr>\n",
       "      <th>0</th>\n",
       "      <td>Mykola</td>\n",
       "      <td>NaN</td>\n",
       "      <td>0.165965</td>\n",
       "      <td>0.328057</td>\n",
       "    </tr>\n",
       "    <tr>\n",
       "      <th>1</th>\n",
       "      <td>Honorata</td>\n",
       "      <td>0.165965</td>\n",
       "      <td>NaN</td>\n",
       "      <td>0.080297</td>\n",
       "    </tr>\n",
       "    <tr>\n",
       "      <th>2</th>\n",
       "      <td>Antoaneta</td>\n",
       "      <td>0.328057</td>\n",
       "      <td>0.080297</td>\n",
       "      <td>NaN</td>\n",
       "    </tr>\n",
       "  </tbody>\n",
       "</table>\n",
       "</div>"
      ],
      "text/plain": [
       "   annotator    Mykola  Honorata  Antoaneta\n",
       "0     Mykola       NaN  0.165965   0.328057\n",
       "1   Honorata  0.165965       NaN   0.080297\n",
       "2  Antoaneta  0.328057  0.080297        NaN"
      ]
     },
     "metadata": {},
     "output_type": "display_data"
    }
   ],
   "source": [
    "interexperts('Framing score (1: Thematic, 7: Episodic)', level='ordinal')"
   ]
  },
  {
   "cell_type": "code",
   "execution_count": null,
   "metadata": {},
   "outputs": [],
   "source": []
  }
 ],
 "metadata": {
  "kernelspec": {
   "display_name": "Python 3",
   "language": "python",
   "name": "python3"
  },
  "language_info": {
   "codemirror_mode": {
    "name": "ipython",
    "version": 3
   },
   "file_extension": ".py",
   "mimetype": "text/x-python",
   "name": "python",
   "nbconvert_exporter": "python",
   "pygments_lexer": "ipython3",
   "version": "3.8.2"
  }
 },
 "nbformat": 4,
 "nbformat_minor": 4
}
