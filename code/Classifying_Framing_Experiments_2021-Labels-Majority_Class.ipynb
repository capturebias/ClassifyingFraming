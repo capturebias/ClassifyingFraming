{
 "cells": [
  {
   "cell_type": "code",
   "execution_count": 46,
   "metadata": {},
   "outputs": [],
   "source": [
    "#%pip install sklearn\n",
    "#%pip install torch\n",
    "\n",
    "from collections import namedtuple\n",
    "from math import sqrt\n",
    "import os\n",
    "from time import time\n",
    "import random\n",
    "import numpy as np\n",
    "from scipy import stats\n",
    "import pandas as pd\n",
    "import sklearn\n",
    "from sklearn.base import clone\n",
    "import torch\n",
    "import torch.nn as nn\n",
    "import torch.optim as optim\n",
    "from IPython.display import display, HTML\n",
    "\n",
    "## project structure\n",
    "DATA_DIR = \"/data/projects/capturingBias/research/framing/data/\" \n",
    "DATA_NPZ = DATA_DIR + \"data2021.npz\"\n",
    "\n",
    "## load files\n",
    "data = np.load(DATA_NPZ)\n",
    "\n",
    "X_2D = data['X_2D']\n",
    "X_3D = data['X_3D']\n",
    "y_crowd = data['y_crowd']\n",
    "y_experts = data['y_experts']\n",
    "y_combined = data['y_combined']\n",
    "\n",
    "# retrieve indices of labeled samples\n",
    "experts_pilot_idx = np.where(y_experts > -1)[0]  # equal pilot subset\n",
    "\n",
    "crowd_pilot_idx = np.array([idx for idx in experts_pilot_idx if y_crowd[idx] > -1])\n",
    "crowd_all_idx = np.where(y_crowd > -1)[0]\n",
    "\n",
    "combined_all_idx = np.where(y_combined > -1)[0]"
   ]
  },
  {
   "cell_type": "code",
   "execution_count": 47,
   "metadata": {},
   "outputs": [
    {
     "name": "stdout",
     "output_type": "stream",
     "text": [
      "40992887\n"
     ]
    }
   ],
   "source": [
    "def set_seed(seed=-1):\n",
    "    if seed < 0:\n",
    "        seed = np.random.randint(0, 2**32-1)\n",
    "\n",
    "    os.environ['PYTHONHASHSEED'] = str(seed)\n",
    "    random.seed(seed)\n",
    "    np.random.seed(seed)\n",
    "    torch.random.manual_seed(seed)\n",
    "    torch.cuda.manual_seed_all(seed)\n",
    "    \n",
    "    return seed\n",
    "    \n",
    "print(set_seed())  # make reproducable"
   ]
  },
  {
   "cell_type": "markdown",
   "metadata": {},
   "source": [
    "# Majority Class"
   ]
  },
  {
   "cell_type": "code",
   "execution_count": 52,
   "metadata": {},
   "outputs": [],
   "source": [
    "from collections import Counter\n",
    "\n",
    "def majority_class(y):\n",
    "    ct = Counter(y)\n",
    "    return ct.most_common(1)[0][1] / len(y)"
   ]
  },
  {
   "cell_type": "code",
   "execution_count": 53,
   "metadata": {},
   "outputs": [
    {
     "name": "stdout",
     "output_type": "stream",
     "text": [
      "\n",
      "Majority class accuracy on dominant labels (baseline)\n",
      " expert pilot: 0.5345\n",
      " crowd pilot:  0.5690\n",
      " crowd all:  0.5487\n",
      " combined pilot: 0.5345\n",
      " combined all: 0.5310\n"
     ]
    }
   ],
   "source": [
    "print(\"\\nMajority class accuracy on dominant labels (baseline)\")\n",
    "\n",
    "majority_class_acc_pilot_experts = majority_class(y_experts[experts_pilot_idx])\n",
    "print(\" expert pilot: {:.4f}\".format(majority_class_acc_pilot_experts))\n",
    "\n",
    "majority_class_acc_pilot_crowd = majority_class(y_crowd[crowd_pilot_idx])\n",
    "majority_class_acc_all_crowd = majority_class(y_crowd[crowd_all_idx])\n",
    "print(\" crowd pilot:  {:.4f}\".format(majority_class_acc_pilot_crowd))\n",
    "print(\" crowd all:  {:.4f}\".format(majority_class_acc_all_crowd))\n",
    "\n",
    "majority_class_acc_all_combined = majority_class(y_combined[combined_all_idx])\n",
    "print(\" combined all: {:.4f}\".format(majority_class_acc_all_combined))"
   ]
  }
 ],
 "metadata": {
  "kernelspec": {
   "display_name": "Python 3",
   "language": "python",
   "name": "python3"
  },
  "language_info": {
   "codemirror_mode": {
    "name": "ipython",
    "version": 3
   },
   "file_extension": ".py",
   "mimetype": "text/x-python",
   "name": "python",
   "nbconvert_exporter": "python",
   "pygments_lexer": "ipython3",
   "version": "3.9.2"
  }
 },
 "nbformat": 4,
 "nbformat_minor": 4
}
